{
 "metadata": {
  "language_info": {
   "codemirror_mode": {
    "name": "ipython",
    "version": 3
   },
   "file_extension": ".py",
   "mimetype": "text/x-python",
   "name": "python",
   "nbconvert_exporter": "python",
   "pygments_lexer": "ipython3",
   "version": "3.8.3-final"
  },
  "orig_nbformat": 2,
  "kernelspec": {
   "name": "python3",
   "display_name": "Python 3.8.3 64-bit ('dst_hw')",
   "metadata": {
    "interpreter": {
     "hash": "8ea5c965b16604f37c1331d5cb93c2ab51a8e92fd9cdaf191a2693e9831208e7"
    }
   }
  }
 },
 "nbformat": 4,
 "nbformat_minor": 2,
 "cells": [
  {
   "source": [
    "# Dataset and Motivation"
   ],
   "cell_type": "markdown",
   "metadata": {}
  },
  {
   "source": [
    "For this notebook we will be working with the Our World in Data COVID-19 Dataset. The data contains information about vaccinations, tests & positivity rates, hospitalization & ICU numbers, confirmed cases, confirmed deaths, and more in relation to the COVID-19 pandemic from around the world. The data is compiled from a number of sources, including the Ceter for Systems Science and Engineering at John Hopkins University, European Centre for Disease Prevention and Control, various governmental sources, official reports, and more. A full description of the data sources included in this dataset can be found at the official [Github Repository](https://github.com/owid/covid-19-data/tree/master/public/data/) for the dataset. While some variables are updated daily, others are updated weekly or periodically depending on the availability of data from the official sources."
   ],
   "cell_type": "markdown",
   "metadata": {}
  },
  {
   "source": [
    "## Packages"
   ],
   "cell_type": "markdown",
   "metadata": {}
  },
  {
   "cell_type": "code",
   "execution_count": 1,
   "metadata": {},
   "outputs": [],
   "source": [
    "import pandas as pd\n",
    "import matplotlib.pyplot as plt\n",
    "import seaborn as sns"
   ]
  },
  {
   "cell_type": "code",
   "execution_count": 3,
   "metadata": {},
   "outputs": [],
   "source": [
    "covid_data = pd.read_csv(\"https://covid.ourworldindata.org/data/owid-covid-data.csv\")"
   ]
  },
  {
   "cell_type": "code",
   "execution_count": 4,
   "metadata": {},
   "outputs": [
    {
     "output_type": "stream",
     "name": "stdout",
     "text": [
      "The dataset includes 132644 observations of 65 features.\n"
     ]
    }
   ],
   "source": [
    "size = covid_data.shape\n",
    "print(\"The dataset includes \" + str(size[0]) + \" observations of \" + str(size[1]) + \" features.\")"
   ]
  },
  {
   "cell_type": "code",
   "execution_count": 5,
   "metadata": {},
   "outputs": [
    {
     "output_type": "stream",
     "name": "stdout",
     "text": [
      "The features included in the dataset are: ['iso_code', 'continent', 'location', 'date', 'total_cases', 'new_cases', 'new_cases_smoothed', 'total_deaths', 'new_deaths', 'new_deaths_smoothed', 'total_cases_per_million', 'new_cases_per_million', 'new_cases_smoothed_per_million', 'total_deaths_per_million', 'new_deaths_per_million', 'new_deaths_smoothed_per_million', 'reproduction_rate', 'icu_patients', 'icu_patients_per_million', 'hosp_patients', 'hosp_patients_per_million', 'weekly_icu_admissions', 'weekly_icu_admissions_per_million', 'weekly_hosp_admissions', 'weekly_hosp_admissions_per_million', 'new_tests', 'total_tests', 'total_tests_per_thousand', 'new_tests_per_thousand', 'new_tests_smoothed', 'new_tests_smoothed_per_thousand', 'positive_rate', 'tests_per_case', 'tests_units', 'total_vaccinations', 'people_vaccinated', 'people_fully_vaccinated', 'total_boosters', 'new_vaccinations', 'new_vaccinations_smoothed', 'total_vaccinations_per_hundred', 'people_vaccinated_per_hundred', 'people_fully_vaccinated_per_hundred', 'total_boosters_per_hundred', 'new_vaccinations_smoothed_per_million', 'stringency_index', 'population', 'population_density', 'median_age', 'aged_65_older', 'aged_70_older', 'gdp_per_capita', 'extreme_poverty', 'cardiovasc_death_rate', 'diabetes_prevalence', 'female_smokers', 'male_smokers', 'handwashing_facilities', 'hospital_beds_per_thousand', 'life_expectancy', 'human_development_index', 'excess_mortality_cumulative_absolute', 'excess_mortality_cumulative', 'excess_mortality', 'excess_mortality_cumulative_per_million']\n"
     ]
    }
   ],
   "source": [
    "print(\"The features included in the dataset are: \" + str(list(covid_data.columns)))"
   ]
  },
  {
   "source": [
    "# Research Question"
   ],
   "cell_type": "markdown",
   "metadata": {}
  },
  {
   "source": [
    "How has COVID-19 spread since the first case was discovered? How has the trend changed since the introduction of key intervention measures such as social distancing, mask requirements, vaccinations, and more?"
   ],
   "cell_type": "markdown",
   "metadata": {}
  },
  {
   "source": [
    "# Data Cleaning"
   ],
   "cell_type": "markdown",
   "metadata": {}
  },
  {
   "cell_type": "code",
   "execution_count": 6,
   "metadata": {},
   "outputs": [
    {
     "output_type": "execute_result",
     "data": {
      "text/plain": [
       "       iso_code continent     location        date  total_cases  new_cases  \\\n",
       "59633       ITA    Europe        Italy  2021-08-29    4530246.0     5954.0   \n",
       "58408       IMN    Europe  Isle of Man  2021-10-22          NaN        NaN   \n",
       "114790      SWE    Europe       Sweden  2021-08-11    1108057.0     1236.0   \n",
       "78407       MDA    Europe      Moldova  2020-04-03        591.0       86.0   \n",
       "58403       IMN    Europe  Isle of Man  2021-10-17          NaN        NaN   \n",
       "\n",
       "        new_cases_smoothed  total_deaths  new_deaths  new_deaths_smoothed  \\\n",
       "59633             6519.000      129093.0        37.0               48.857   \n",
       "58408                  NaN           NaN         NaN                  NaN   \n",
       "114790             746.857       14658.0         0.0                0.143   \n",
       "78407               56.000           8.0         2.0                0.857   \n",
       "58403                  NaN           NaN         NaN                  NaN   \n",
       "\n",
       "        ...  female_smokers  male_smokers  handwashing_facilities  \\\n",
       "59633   ...            19.8          27.8                     NaN   \n",
       "58408   ...             NaN           NaN                     NaN   \n",
       "114790  ...            18.8          18.9                     NaN   \n",
       "78407   ...             5.9          44.6                  86.979   \n",
       "58403   ...             NaN           NaN                     NaN   \n",
       "\n",
       "        hospital_beds_per_thousand  life_expectancy  human_development_index  \\\n",
       "59633                         3.18            83.51                    0.892   \n",
       "58408                          NaN            81.40                      NaN   \n",
       "114790                        2.22            82.80                    0.945   \n",
       "78407                         5.80            71.90                    0.750   \n",
       "58403                          NaN            81.40                      NaN   \n",
       "\n",
       "        excess_mortality_cumulative_absolute  excess_mortality_cumulative  \\\n",
       "59633                               135601.3                        12.52   \n",
       "58408                                    NaN                          NaN   \n",
       "114790                                   NaN                          NaN   \n",
       "78407                                    NaN                          NaN   \n",
       "58403                                    NaN                          NaN   \n",
       "\n",
       "        excess_mortality  excess_mortality_cumulative_per_million  \n",
       "59633               5.21                              2246.264383  \n",
       "58408                NaN                                      NaN  \n",
       "114790               NaN                                      NaN  \n",
       "78407                NaN                                      NaN  \n",
       "58403                NaN                                      NaN  \n",
       "\n",
       "[5 rows x 65 columns]"
      ],
      "text/html": "<div>\n<style scoped>\n    .dataframe tbody tr th:only-of-type {\n        vertical-align: middle;\n    }\n\n    .dataframe tbody tr th {\n        vertical-align: top;\n    }\n\n    .dataframe thead th {\n        text-align: right;\n    }\n</style>\n<table border=\"1\" class=\"dataframe\">\n  <thead>\n    <tr style=\"text-align: right;\">\n      <th></th>\n      <th>iso_code</th>\n      <th>continent</th>\n      <th>location</th>\n      <th>date</th>\n      <th>total_cases</th>\n      <th>new_cases</th>\n      <th>new_cases_smoothed</th>\n      <th>total_deaths</th>\n      <th>new_deaths</th>\n      <th>new_deaths_smoothed</th>\n      <th>...</th>\n      <th>female_smokers</th>\n      <th>male_smokers</th>\n      <th>handwashing_facilities</th>\n      <th>hospital_beds_per_thousand</th>\n      <th>life_expectancy</th>\n      <th>human_development_index</th>\n      <th>excess_mortality_cumulative_absolute</th>\n      <th>excess_mortality_cumulative</th>\n      <th>excess_mortality</th>\n      <th>excess_mortality_cumulative_per_million</th>\n    </tr>\n  </thead>\n  <tbody>\n    <tr>\n      <th>59633</th>\n      <td>ITA</td>\n      <td>Europe</td>\n      <td>Italy</td>\n      <td>2021-08-29</td>\n      <td>4530246.0</td>\n      <td>5954.0</td>\n      <td>6519.000</td>\n      <td>129093.0</td>\n      <td>37.0</td>\n      <td>48.857</td>\n      <td>...</td>\n      <td>19.8</td>\n      <td>27.8</td>\n      <td>NaN</td>\n      <td>3.18</td>\n      <td>83.51</td>\n      <td>0.892</td>\n      <td>135601.3</td>\n      <td>12.52</td>\n      <td>5.21</td>\n      <td>2246.264383</td>\n    </tr>\n    <tr>\n      <th>58408</th>\n      <td>IMN</td>\n      <td>Europe</td>\n      <td>Isle of Man</td>\n      <td>2021-10-22</td>\n      <td>NaN</td>\n      <td>NaN</td>\n      <td>NaN</td>\n      <td>NaN</td>\n      <td>NaN</td>\n      <td>NaN</td>\n      <td>...</td>\n      <td>NaN</td>\n      <td>NaN</td>\n      <td>NaN</td>\n      <td>NaN</td>\n      <td>81.40</td>\n      <td>NaN</td>\n      <td>NaN</td>\n      <td>NaN</td>\n      <td>NaN</td>\n      <td>NaN</td>\n    </tr>\n    <tr>\n      <th>114790</th>\n      <td>SWE</td>\n      <td>Europe</td>\n      <td>Sweden</td>\n      <td>2021-08-11</td>\n      <td>1108057.0</td>\n      <td>1236.0</td>\n      <td>746.857</td>\n      <td>14658.0</td>\n      <td>0.0</td>\n      <td>0.143</td>\n      <td>...</td>\n      <td>18.8</td>\n      <td>18.9</td>\n      <td>NaN</td>\n      <td>2.22</td>\n      <td>82.80</td>\n      <td>0.945</td>\n      <td>NaN</td>\n      <td>NaN</td>\n      <td>NaN</td>\n      <td>NaN</td>\n    </tr>\n    <tr>\n      <th>78407</th>\n      <td>MDA</td>\n      <td>Europe</td>\n      <td>Moldova</td>\n      <td>2020-04-03</td>\n      <td>591.0</td>\n      <td>86.0</td>\n      <td>56.000</td>\n      <td>8.0</td>\n      <td>2.0</td>\n      <td>0.857</td>\n      <td>...</td>\n      <td>5.9</td>\n      <td>44.6</td>\n      <td>86.979</td>\n      <td>5.80</td>\n      <td>71.90</td>\n      <td>0.750</td>\n      <td>NaN</td>\n      <td>NaN</td>\n      <td>NaN</td>\n      <td>NaN</td>\n    </tr>\n    <tr>\n      <th>58403</th>\n      <td>IMN</td>\n      <td>Europe</td>\n      <td>Isle of Man</td>\n      <td>2021-10-17</td>\n      <td>NaN</td>\n      <td>NaN</td>\n      <td>NaN</td>\n      <td>NaN</td>\n      <td>NaN</td>\n      <td>NaN</td>\n      <td>...</td>\n      <td>NaN</td>\n      <td>NaN</td>\n      <td>NaN</td>\n      <td>NaN</td>\n      <td>81.40</td>\n      <td>NaN</td>\n      <td>NaN</td>\n      <td>NaN</td>\n      <td>NaN</td>\n      <td>NaN</td>\n    </tr>\n  </tbody>\n</table>\n<p>5 rows × 65 columns</p>\n</div>"
     },
     "metadata": {},
     "execution_count": 6
    }
   ],
   "source": [
    "covid_data.sample(5)"
   ]
  },
  {
   "source": [
    "We will narrow our dataset to only focus on US data."
   ],
   "cell_type": "markdown",
   "metadata": {}
  },
  {
   "cell_type": "code",
   "execution_count": 7,
   "metadata": {},
   "outputs": [],
   "source": [
    "us_data = covid_data[covid_data['iso_code'] == 'USA'].reset_index()"
   ]
  },
  {
   "cell_type": "code",
   "execution_count": 8,
   "metadata": {},
   "outputs": [
    {
     "output_type": "execute_result",
     "data": {
      "text/plain": [
       "(660, 66)"
      ]
     },
     "metadata": {},
     "execution_count": 8
    }
   ],
   "source": [
    "us_data.shape"
   ]
  },
  {
   "source": [
    "We can drop some columns that are not relevant to our analysis."
   ],
   "cell_type": "markdown",
   "metadata": {}
  },
  {
   "cell_type": "code",
   "execution_count": 9,
   "metadata": {},
   "outputs": [],
   "source": [
    "us_data.drop(columns=['new_cases_smoothed', 'new_cases_smoothed_per_million', 'new_deaths_smoothed', 'new_deaths_smoothed_per_million', 'excess_mortality', 'excess_mortality_cumulative', 'excess_mortality_cumulative_absolute', 'excess_mortality_cumulative_per_million', 'new_tests_smoothed', 'new_tests_smoothed_per_thousand', 'new_vaccinations_smoothed', 'new_vaccinations_smoothed_per_million', 'iso_code', 'continent', 'location', 'gdp_per_capita', 'extreme_poverty'], inplace=True)"
   ]
  },
  {
   "cell_type": "code",
   "execution_count": 10,
   "metadata": {},
   "outputs": [
    {
     "output_type": "execute_result",
     "data": {
      "text/plain": [
       "(660, 49)"
      ]
     },
     "metadata": {},
     "execution_count": 10
    }
   ],
   "source": [
    "us_data.shape"
   ]
  },
  {
   "source": [
    "We are left with 660 observations of 48 features."
   ],
   "cell_type": "markdown",
   "metadata": {}
  },
  {
   "cell_type": "code",
   "execution_count": 11,
   "metadata": {},
   "outputs": [
    {
     "output_type": "stream",
     "name": "stdout",
     "text": [
      "The remaining variables available to us to examine are: ['index', 'date', 'total_cases', 'new_cases', 'total_deaths', 'new_deaths', 'total_cases_per_million', 'new_cases_per_million', 'total_deaths_per_million', 'new_deaths_per_million', 'reproduction_rate', 'icu_patients', 'icu_patients_per_million', 'hosp_patients', 'hosp_patients_per_million', 'weekly_icu_admissions', 'weekly_icu_admissions_per_million', 'weekly_hosp_admissions', 'weekly_hosp_admissions_per_million', 'new_tests', 'total_tests', 'total_tests_per_thousand', 'new_tests_per_thousand', 'positive_rate', 'tests_per_case', 'tests_units', 'total_vaccinations', 'people_vaccinated', 'people_fully_vaccinated', 'total_boosters', 'new_vaccinations', 'total_vaccinations_per_hundred', 'people_vaccinated_per_hundred', 'people_fully_vaccinated_per_hundred', 'total_boosters_per_hundred', 'stringency_index', 'population', 'population_density', 'median_age', 'aged_65_older', 'aged_70_older', 'cardiovasc_death_rate', 'diabetes_prevalence', 'female_smokers', 'male_smokers', 'handwashing_facilities', 'hospital_beds_per_thousand', 'life_expectancy', 'human_development_index']\n"
     ]
    }
   ],
   "source": [
    "print(\"The remaining variables available to us to examine are: \" + str(list(us_data.columns)))"
   ]
  },
  {
   "cell_type": "code",
   "execution_count": 12,
   "metadata": {},
   "outputs": [
    {
     "output_type": "execute_result",
     "data": {
      "text/plain": [
       "index                                    int64\n",
       "date                                    object\n",
       "total_cases                            float64\n",
       "new_cases                              float64\n",
       "total_deaths                           float64\n",
       "new_deaths                             float64\n",
       "total_cases_per_million                float64\n",
       "new_cases_per_million                  float64\n",
       "total_deaths_per_million               float64\n",
       "new_deaths_per_million                 float64\n",
       "reproduction_rate                      float64\n",
       "icu_patients                           float64\n",
       "icu_patients_per_million               float64\n",
       "hosp_patients                          float64\n",
       "hosp_patients_per_million              float64\n",
       "weekly_icu_admissions                  float64\n",
       "weekly_icu_admissions_per_million      float64\n",
       "weekly_hosp_admissions                 float64\n",
       "weekly_hosp_admissions_per_million     float64\n",
       "new_tests                              float64\n",
       "total_tests                            float64\n",
       "total_tests_per_thousand               float64\n",
       "new_tests_per_thousand                 float64\n",
       "positive_rate                          float64\n",
       "tests_per_case                         float64\n",
       "tests_units                             object\n",
       "total_vaccinations                     float64\n",
       "people_vaccinated                      float64\n",
       "people_fully_vaccinated                float64\n",
       "total_boosters                         float64\n",
       "new_vaccinations                       float64\n",
       "total_vaccinations_per_hundred         float64\n",
       "people_vaccinated_per_hundred          float64\n",
       "people_fully_vaccinated_per_hundred    float64\n",
       "total_boosters_per_hundred             float64\n",
       "stringency_index                       float64\n",
       "population                             float64\n",
       "population_density                     float64\n",
       "median_age                             float64\n",
       "aged_65_older                          float64\n",
       "aged_70_older                          float64\n",
       "cardiovasc_death_rate                  float64\n",
       "diabetes_prevalence                    float64\n",
       "female_smokers                         float64\n",
       "male_smokers                           float64\n",
       "handwashing_facilities                 float64\n",
       "hospital_beds_per_thousand             float64\n",
       "life_expectancy                        float64\n",
       "human_development_index                float64\n",
       "dtype: object"
      ]
     },
     "metadata": {},
     "execution_count": 12
    }
   ],
   "source": [
    "us_data.dtypes"
   ]
  },
  {
   "source": [
    "We see that the date column is incorrectly typed -- we must correct this."
   ],
   "cell_type": "markdown",
   "metadata": {}
  },
  {
   "cell_type": "code",
   "execution_count": 13,
   "metadata": {},
   "outputs": [],
   "source": [
    "us_data['date'] = pd.to_datetime(us_data['date'], utc=False)"
   ]
  },
  {
   "cell_type": "code",
   "execution_count": 14,
   "metadata": {},
   "outputs": [
    {
     "output_type": "execute_result",
     "data": {
      "text/plain": [
       "index                                           int64\n",
       "date                                   datetime64[ns]\n",
       "total_cases                                   float64\n",
       "new_cases                                     float64\n",
       "total_deaths                                  float64\n",
       "new_deaths                                    float64\n",
       "total_cases_per_million                       float64\n",
       "new_cases_per_million                         float64\n",
       "total_deaths_per_million                      float64\n",
       "new_deaths_per_million                        float64\n",
       "reproduction_rate                             float64\n",
       "icu_patients                                  float64\n",
       "icu_patients_per_million                      float64\n",
       "hosp_patients                                 float64\n",
       "hosp_patients_per_million                     float64\n",
       "weekly_icu_admissions                         float64\n",
       "weekly_icu_admissions_per_million             float64\n",
       "weekly_hosp_admissions                        float64\n",
       "weekly_hosp_admissions_per_million            float64\n",
       "new_tests                                     float64\n",
       "total_tests                                   float64\n",
       "total_tests_per_thousand                      float64\n",
       "new_tests_per_thousand                        float64\n",
       "positive_rate                                 float64\n",
       "tests_per_case                                float64\n",
       "tests_units                                    object\n",
       "total_vaccinations                            float64\n",
       "people_vaccinated                             float64\n",
       "people_fully_vaccinated                       float64\n",
       "total_boosters                                float64\n",
       "new_vaccinations                              float64\n",
       "total_vaccinations_per_hundred                float64\n",
       "people_vaccinated_per_hundred                 float64\n",
       "people_fully_vaccinated_per_hundred           float64\n",
       "total_boosters_per_hundred                    float64\n",
       "stringency_index                              float64\n",
       "population                                    float64\n",
       "population_density                            float64\n",
       "median_age                                    float64\n",
       "aged_65_older                                 float64\n",
       "aged_70_older                                 float64\n",
       "cardiovasc_death_rate                         float64\n",
       "diabetes_prevalence                           float64\n",
       "female_smokers                                float64\n",
       "male_smokers                                  float64\n",
       "handwashing_facilities                        float64\n",
       "hospital_beds_per_thousand                    float64\n",
       "life_expectancy                               float64\n",
       "human_development_index                       float64\n",
       "dtype: object"
      ]
     },
     "metadata": {},
     "execution_count": 14
    }
   ],
   "source": [
    "us_data.dtypes"
   ]
  },
  {
   "source": [
    "The date column is now properly typed."
   ],
   "cell_type": "markdown",
   "metadata": {}
  },
  {
   "cell_type": "code",
   "execution_count": 15,
   "metadata": {},
   "outputs": [
    {
     "output_type": "execute_result",
     "data": {
      "text/plain": [
       "index                                    0\n",
       "date                                     0\n",
       "total_cases                              0\n",
       "new_cases                                1\n",
       "total_deaths                            38\n",
       "new_deaths                              38\n",
       "total_cases_per_million                  0\n",
       "new_cases_per_million                    1\n",
       "total_deaths_per_million                38\n",
       "new_deaths_per_million                  38\n",
       "reproduction_rate                       44\n",
       "icu_patients                           175\n",
       "icu_patients_per_million               175\n",
       "hosp_patients                          175\n",
       "hosp_patients_per_million              175\n",
       "weekly_icu_admissions                  660\n",
       "weekly_icu_admissions_per_million      660\n",
       "weekly_hosp_admissions                 592\n",
       "weekly_hosp_admissions_per_million     592\n",
       "new_tests                               42\n",
       "total_tests                             42\n",
       "total_tests_per_thousand                42\n",
       "new_tests_per_thousand                  42\n",
       "positive_rate                           49\n",
       "tests_per_case                          49\n",
       "tests_units                             42\n",
       "total_vaccinations                     327\n",
       "people_vaccinated                      327\n",
       "people_fully_vaccinated                327\n",
       "total_boosters                         570\n",
       "new_vaccinations                       328\n",
       "total_vaccinations_per_hundred         327\n",
       "people_vaccinated_per_hundred          327\n",
       "people_fully_vaccinated_per_hundred    327\n",
       "total_boosters_per_hundred             570\n",
       "stringency_index                         6\n",
       "population                               0\n",
       "population_density                       0\n",
       "median_age                               0\n",
       "aged_65_older                            0\n",
       "aged_70_older                            0\n",
       "cardiovasc_death_rate                    0\n",
       "diabetes_prevalence                      0\n",
       "female_smokers                           0\n",
       "male_smokers                             0\n",
       "handwashing_facilities                 660\n",
       "hospital_beds_per_thousand               0\n",
       "life_expectancy                          0\n",
       "human_development_index                  0\n",
       "dtype: int64"
      ]
     },
     "metadata": {},
     "execution_count": 15
    }
   ],
   "source": [
    "us_data.isna().sum()"
   ]
  },
  {
   "source": [
    "The handwashing facilities column seems to only contain nulls, so we will drop it."
   ],
   "cell_type": "markdown",
   "metadata": {}
  },
  {
   "cell_type": "code",
   "execution_count": 16,
   "metadata": {},
   "outputs": [],
   "source": [
    "us_data.drop(columns=['handwashing_facilities'], inplace=True)"
   ]
  },
  {
   "cell_type": "code",
   "execution_count": 17,
   "metadata": {},
   "outputs": [
    {
     "output_type": "execute_result",
     "data": {
      "text/plain": [
       "      index       date  total_cases  new_cases  total_deaths  new_deaths  \\\n",
       "0    125180 2020-01-22          1.0        NaN           NaN         NaN   \n",
       "1    125181 2020-01-23          1.0        0.0           NaN         NaN   \n",
       "2    125182 2020-01-24          2.0        1.0           NaN         NaN   \n",
       "3    125183 2020-01-25          2.0        0.0           NaN         NaN   \n",
       "4    125184 2020-01-26          5.0        3.0           NaN         NaN   \n",
       "5    125185 2020-01-27          5.0        0.0           NaN         NaN   \n",
       "6    125186 2020-01-28          5.0        0.0           NaN         NaN   \n",
       "7    125187 2020-01-29          6.0        1.0           NaN         NaN   \n",
       "8    125188 2020-01-30          6.0        0.0           NaN         NaN   \n",
       "9    125189 2020-01-31          8.0        2.0           NaN         NaN   \n",
       "10   125190 2020-02-01          8.0        0.0           NaN         NaN   \n",
       "11   125191 2020-02-02          8.0        0.0           NaN         NaN   \n",
       "12   125192 2020-02-03         11.0        3.0           NaN         NaN   \n",
       "13   125193 2020-02-04         11.0        0.0           NaN         NaN   \n",
       "14   125194 2020-02-05         11.0        0.0           NaN         NaN   \n",
       "15   125195 2020-02-06         12.0        1.0           NaN         NaN   \n",
       "16   125196 2020-02-07         12.0        0.0           NaN         NaN   \n",
       "17   125197 2020-02-08         12.0        0.0           NaN         NaN   \n",
       "18   125198 2020-02-09         12.0        0.0           NaN         NaN   \n",
       "19   125199 2020-02-10         12.0        0.0           NaN         NaN   \n",
       "20   125200 2020-02-11         13.0        1.0           NaN         NaN   \n",
       "21   125201 2020-02-12         13.0        0.0           NaN         NaN   \n",
       "22   125202 2020-02-13         14.0        1.0           NaN         NaN   \n",
       "23   125203 2020-02-14         14.0        0.0           NaN         NaN   \n",
       "24   125204 2020-02-15         14.0        0.0           NaN         NaN   \n",
       "25   125205 2020-02-16         14.0        0.0           NaN         NaN   \n",
       "26   125206 2020-02-17         14.0        0.0           NaN         NaN   \n",
       "27   125207 2020-02-18         14.0        0.0           NaN         NaN   \n",
       "28   125208 2020-02-19         14.0        0.0           NaN         NaN   \n",
       "29   125209 2020-02-20         14.0        0.0           NaN         NaN   \n",
       "30   125210 2020-02-21         16.0        2.0           NaN         NaN   \n",
       "31   125211 2020-02-22         16.0        0.0           NaN         NaN   \n",
       "32   125212 2020-02-23         16.0        0.0           NaN         NaN   \n",
       "33   125213 2020-02-24         16.0        0.0           NaN         NaN   \n",
       "34   125214 2020-02-25         16.0        0.0           NaN         NaN   \n",
       "35   125215 2020-02-26         16.0        0.0           NaN         NaN   \n",
       "36   125216 2020-02-27         17.0        1.0           NaN         NaN   \n",
       "37   125217 2020-02-28         17.0        0.0           NaN         NaN   \n",
       "38   125218 2020-02-29         25.0        8.0           1.0         1.0   \n",
       "39   125219 2020-03-01         32.0        7.0           1.0         0.0   \n",
       "40   125220 2020-03-02         55.0       23.0           6.0         5.0   \n",
       "41   125221 2020-03-03         74.0       19.0           7.0         1.0   \n",
       "42   125222 2020-03-04        107.0       33.0          11.0         4.0   \n",
       "659  125839 2021-11-11   46851529.0    58626.0      760037.0       760.0   \n",
       "\n",
       "     total_cases_per_million  new_cases_per_million  total_deaths_per_million  \\\n",
       "0                      0.003                    NaN                       NaN   \n",
       "1                      0.003                  0.000                       NaN   \n",
       "2                      0.006                  0.003                       NaN   \n",
       "3                      0.006                  0.000                       NaN   \n",
       "4                      0.015                  0.009                       NaN   \n",
       "5                      0.015                  0.000                       NaN   \n",
       "6                      0.015                  0.000                       NaN   \n",
       "7                      0.018                  0.003                       NaN   \n",
       "8                      0.018                  0.000                       NaN   \n",
       "9                      0.024                  0.006                       NaN   \n",
       "10                     0.024                  0.000                       NaN   \n",
       "11                     0.024                  0.000                       NaN   \n",
       "12                     0.033                  0.009                       NaN   \n",
       "13                     0.033                  0.000                       NaN   \n",
       "14                     0.033                  0.000                       NaN   \n",
       "15                     0.036                  0.003                       NaN   \n",
       "16                     0.036                  0.000                       NaN   \n",
       "17                     0.036                  0.000                       NaN   \n",
       "18                     0.036                  0.000                       NaN   \n",
       "19                     0.036                  0.000                       NaN   \n",
       "20                     0.039                  0.003                       NaN   \n",
       "21                     0.039                  0.000                       NaN   \n",
       "22                     0.042                  0.003                       NaN   \n",
       "23                     0.042                  0.000                       NaN   \n",
       "24                     0.042                  0.000                       NaN   \n",
       "25                     0.042                  0.000                       NaN   \n",
       "26                     0.042                  0.000                       NaN   \n",
       "27                     0.042                  0.000                       NaN   \n",
       "28                     0.042                  0.000                       NaN   \n",
       "29                     0.042                  0.000                       NaN   \n",
       "30                     0.048                  0.006                       NaN   \n",
       "31                     0.048                  0.000                       NaN   \n",
       "32                     0.048                  0.000                       NaN   \n",
       "33                     0.048                  0.000                       NaN   \n",
       "34                     0.048                  0.000                       NaN   \n",
       "35                     0.048                  0.000                       NaN   \n",
       "36                     0.051                  0.003                       NaN   \n",
       "37                     0.051                  0.000                       NaN   \n",
       "38                     0.075                  0.024                     0.003   \n",
       "39                     0.096                  0.021                     0.003   \n",
       "40                     0.165                  0.069                     0.018   \n",
       "41                     0.222                  0.057                     0.021   \n",
       "42                     0.321                  0.099                     0.033   \n",
       "659               140731.173                176.099                  2282.976   \n",
       "\n",
       "     new_deaths_per_million  ...  median_age  aged_65_older  aged_70_older  \\\n",
       "0                       NaN  ...        38.3         15.413          9.732   \n",
       "1                       NaN  ...        38.3         15.413          9.732   \n",
       "2                       NaN  ...        38.3         15.413          9.732   \n",
       "3                       NaN  ...        38.3         15.413          9.732   \n",
       "4                       NaN  ...        38.3         15.413          9.732   \n",
       "5                       NaN  ...        38.3         15.413          9.732   \n",
       "6                       NaN  ...        38.3         15.413          9.732   \n",
       "7                       NaN  ...        38.3         15.413          9.732   \n",
       "8                       NaN  ...        38.3         15.413          9.732   \n",
       "9                       NaN  ...        38.3         15.413          9.732   \n",
       "10                      NaN  ...        38.3         15.413          9.732   \n",
       "11                      NaN  ...        38.3         15.413          9.732   \n",
       "12                      NaN  ...        38.3         15.413          9.732   \n",
       "13                      NaN  ...        38.3         15.413          9.732   \n",
       "14                      NaN  ...        38.3         15.413          9.732   \n",
       "15                      NaN  ...        38.3         15.413          9.732   \n",
       "16                      NaN  ...        38.3         15.413          9.732   \n",
       "17                      NaN  ...        38.3         15.413          9.732   \n",
       "18                      NaN  ...        38.3         15.413          9.732   \n",
       "19                      NaN  ...        38.3         15.413          9.732   \n",
       "20                      NaN  ...        38.3         15.413          9.732   \n",
       "21                      NaN  ...        38.3         15.413          9.732   \n",
       "22                      NaN  ...        38.3         15.413          9.732   \n",
       "23                      NaN  ...        38.3         15.413          9.732   \n",
       "24                      NaN  ...        38.3         15.413          9.732   \n",
       "25                      NaN  ...        38.3         15.413          9.732   \n",
       "26                      NaN  ...        38.3         15.413          9.732   \n",
       "27                      NaN  ...        38.3         15.413          9.732   \n",
       "28                      NaN  ...        38.3         15.413          9.732   \n",
       "29                      NaN  ...        38.3         15.413          9.732   \n",
       "30                      NaN  ...        38.3         15.413          9.732   \n",
       "31                      NaN  ...        38.3         15.413          9.732   \n",
       "32                      NaN  ...        38.3         15.413          9.732   \n",
       "33                      NaN  ...        38.3         15.413          9.732   \n",
       "34                      NaN  ...        38.3         15.413          9.732   \n",
       "35                      NaN  ...        38.3         15.413          9.732   \n",
       "36                      NaN  ...        38.3         15.413          9.732   \n",
       "37                      NaN  ...        38.3         15.413          9.732   \n",
       "38                    0.003  ...        38.3         15.413          9.732   \n",
       "39                    0.000  ...        38.3         15.413          9.732   \n",
       "40                    0.015  ...        38.3         15.413          9.732   \n",
       "41                    0.003  ...        38.3         15.413          9.732   \n",
       "42                    0.012  ...        38.3         15.413          9.732   \n",
       "659                   2.283  ...        38.3         15.413          9.732   \n",
       "\n",
       "     cardiovasc_death_rate  diabetes_prevalence  female_smokers  male_smokers  \\\n",
       "0                  151.089                10.79            19.1          24.6   \n",
       "1                  151.089                10.79            19.1          24.6   \n",
       "2                  151.089                10.79            19.1          24.6   \n",
       "3                  151.089                10.79            19.1          24.6   \n",
       "4                  151.089                10.79            19.1          24.6   \n",
       "5                  151.089                10.79            19.1          24.6   \n",
       "6                  151.089                10.79            19.1          24.6   \n",
       "7                  151.089                10.79            19.1          24.6   \n",
       "8                  151.089                10.79            19.1          24.6   \n",
       "9                  151.089                10.79            19.1          24.6   \n",
       "10                 151.089                10.79            19.1          24.6   \n",
       "11                 151.089                10.79            19.1          24.6   \n",
       "12                 151.089                10.79            19.1          24.6   \n",
       "13                 151.089                10.79            19.1          24.6   \n",
       "14                 151.089                10.79            19.1          24.6   \n",
       "15                 151.089                10.79            19.1          24.6   \n",
       "16                 151.089                10.79            19.1          24.6   \n",
       "17                 151.089                10.79            19.1          24.6   \n",
       "18                 151.089                10.79            19.1          24.6   \n",
       "19                 151.089                10.79            19.1          24.6   \n",
       "20                 151.089                10.79            19.1          24.6   \n",
       "21                 151.089                10.79            19.1          24.6   \n",
       "22                 151.089                10.79            19.1          24.6   \n",
       "23                 151.089                10.79            19.1          24.6   \n",
       "24                 151.089                10.79            19.1          24.6   \n",
       "25                 151.089                10.79            19.1          24.6   \n",
       "26                 151.089                10.79            19.1          24.6   \n",
       "27                 151.089                10.79            19.1          24.6   \n",
       "28                 151.089                10.79            19.1          24.6   \n",
       "29                 151.089                10.79            19.1          24.6   \n",
       "30                 151.089                10.79            19.1          24.6   \n",
       "31                 151.089                10.79            19.1          24.6   \n",
       "32                 151.089                10.79            19.1          24.6   \n",
       "33                 151.089                10.79            19.1          24.6   \n",
       "34                 151.089                10.79            19.1          24.6   \n",
       "35                 151.089                10.79            19.1          24.6   \n",
       "36                 151.089                10.79            19.1          24.6   \n",
       "37                 151.089                10.79            19.1          24.6   \n",
       "38                 151.089                10.79            19.1          24.6   \n",
       "39                 151.089                10.79            19.1          24.6   \n",
       "40                 151.089                10.79            19.1          24.6   \n",
       "41                 151.089                10.79            19.1          24.6   \n",
       "42                 151.089                10.79            19.1          24.6   \n",
       "659                151.089                10.79            19.1          24.6   \n",
       "\n",
       "     hospital_beds_per_thousand  life_expectancy  human_development_index  \n",
       "0                          2.77            78.86                    0.926  \n",
       "1                          2.77            78.86                    0.926  \n",
       "2                          2.77            78.86                    0.926  \n",
       "3                          2.77            78.86                    0.926  \n",
       "4                          2.77            78.86                    0.926  \n",
       "5                          2.77            78.86                    0.926  \n",
       "6                          2.77            78.86                    0.926  \n",
       "7                          2.77            78.86                    0.926  \n",
       "8                          2.77            78.86                    0.926  \n",
       "9                          2.77            78.86                    0.926  \n",
       "10                         2.77            78.86                    0.926  \n",
       "11                         2.77            78.86                    0.926  \n",
       "12                         2.77            78.86                    0.926  \n",
       "13                         2.77            78.86                    0.926  \n",
       "14                         2.77            78.86                    0.926  \n",
       "15                         2.77            78.86                    0.926  \n",
       "16                         2.77            78.86                    0.926  \n",
       "17                         2.77            78.86                    0.926  \n",
       "18                         2.77            78.86                    0.926  \n",
       "19                         2.77            78.86                    0.926  \n",
       "20                         2.77            78.86                    0.926  \n",
       "21                         2.77            78.86                    0.926  \n",
       "22                         2.77            78.86                    0.926  \n",
       "23                         2.77            78.86                    0.926  \n",
       "24                         2.77            78.86                    0.926  \n",
       "25                         2.77            78.86                    0.926  \n",
       "26                         2.77            78.86                    0.926  \n",
       "27                         2.77            78.86                    0.926  \n",
       "28                         2.77            78.86                    0.926  \n",
       "29                         2.77            78.86                    0.926  \n",
       "30                         2.77            78.86                    0.926  \n",
       "31                         2.77            78.86                    0.926  \n",
       "32                         2.77            78.86                    0.926  \n",
       "33                         2.77            78.86                    0.926  \n",
       "34                         2.77            78.86                    0.926  \n",
       "35                         2.77            78.86                    0.926  \n",
       "36                         2.77            78.86                    0.926  \n",
       "37                         2.77            78.86                    0.926  \n",
       "38                         2.77            78.86                    0.926  \n",
       "39                         2.77            78.86                    0.926  \n",
       "40                         2.77            78.86                    0.926  \n",
       "41                         2.77            78.86                    0.926  \n",
       "42                         2.77            78.86                    0.926  \n",
       "659                        2.77            78.86                    0.926  \n",
       "\n",
       "[44 rows x 48 columns]"
      ],
      "text/html": "<div>\n<style scoped>\n    .dataframe tbody tr th:only-of-type {\n        vertical-align: middle;\n    }\n\n    .dataframe tbody tr th {\n        vertical-align: top;\n    }\n\n    .dataframe thead th {\n        text-align: right;\n    }\n</style>\n<table border=\"1\" class=\"dataframe\">\n  <thead>\n    <tr style=\"text-align: right;\">\n      <th></th>\n      <th>index</th>\n      <th>date</th>\n      <th>total_cases</th>\n      <th>new_cases</th>\n      <th>total_deaths</th>\n      <th>new_deaths</th>\n      <th>total_cases_per_million</th>\n      <th>new_cases_per_million</th>\n      <th>total_deaths_per_million</th>\n      <th>new_deaths_per_million</th>\n      <th>...</th>\n      <th>median_age</th>\n      <th>aged_65_older</th>\n      <th>aged_70_older</th>\n      <th>cardiovasc_death_rate</th>\n      <th>diabetes_prevalence</th>\n      <th>female_smokers</th>\n      <th>male_smokers</th>\n      <th>hospital_beds_per_thousand</th>\n      <th>life_expectancy</th>\n      <th>human_development_index</th>\n    </tr>\n  </thead>\n  <tbody>\n    <tr>\n      <th>0</th>\n      <td>125180</td>\n      <td>2020-01-22</td>\n      <td>1.0</td>\n      <td>NaN</td>\n      <td>NaN</td>\n      <td>NaN</td>\n      <td>0.003</td>\n      <td>NaN</td>\n      <td>NaN</td>\n      <td>NaN</td>\n      <td>...</td>\n      <td>38.3</td>\n      <td>15.413</td>\n      <td>9.732</td>\n      <td>151.089</td>\n      <td>10.79</td>\n      <td>19.1</td>\n      <td>24.6</td>\n      <td>2.77</td>\n      <td>78.86</td>\n      <td>0.926</td>\n    </tr>\n    <tr>\n      <th>1</th>\n      <td>125181</td>\n      <td>2020-01-23</td>\n      <td>1.0</td>\n      <td>0.0</td>\n      <td>NaN</td>\n      <td>NaN</td>\n      <td>0.003</td>\n      <td>0.000</td>\n      <td>NaN</td>\n      <td>NaN</td>\n      <td>...</td>\n      <td>38.3</td>\n      <td>15.413</td>\n      <td>9.732</td>\n      <td>151.089</td>\n      <td>10.79</td>\n      <td>19.1</td>\n      <td>24.6</td>\n      <td>2.77</td>\n      <td>78.86</td>\n      <td>0.926</td>\n    </tr>\n    <tr>\n      <th>2</th>\n      <td>125182</td>\n      <td>2020-01-24</td>\n      <td>2.0</td>\n      <td>1.0</td>\n      <td>NaN</td>\n      <td>NaN</td>\n      <td>0.006</td>\n      <td>0.003</td>\n      <td>NaN</td>\n      <td>NaN</td>\n      <td>...</td>\n      <td>38.3</td>\n      <td>15.413</td>\n      <td>9.732</td>\n      <td>151.089</td>\n      <td>10.79</td>\n      <td>19.1</td>\n      <td>24.6</td>\n      <td>2.77</td>\n      <td>78.86</td>\n      <td>0.926</td>\n    </tr>\n    <tr>\n      <th>3</th>\n      <td>125183</td>\n      <td>2020-01-25</td>\n      <td>2.0</td>\n      <td>0.0</td>\n      <td>NaN</td>\n      <td>NaN</td>\n      <td>0.006</td>\n      <td>0.000</td>\n      <td>NaN</td>\n      <td>NaN</td>\n      <td>...</td>\n      <td>38.3</td>\n      <td>15.413</td>\n      <td>9.732</td>\n      <td>151.089</td>\n      <td>10.79</td>\n      <td>19.1</td>\n      <td>24.6</td>\n      <td>2.77</td>\n      <td>78.86</td>\n      <td>0.926</td>\n    </tr>\n    <tr>\n      <th>4</th>\n      <td>125184</td>\n      <td>2020-01-26</td>\n      <td>5.0</td>\n      <td>3.0</td>\n      <td>NaN</td>\n      <td>NaN</td>\n      <td>0.015</td>\n      <td>0.009</td>\n      <td>NaN</td>\n      <td>NaN</td>\n      <td>...</td>\n      <td>38.3</td>\n      <td>15.413</td>\n      <td>9.732</td>\n      <td>151.089</td>\n      <td>10.79</td>\n      <td>19.1</td>\n      <td>24.6</td>\n      <td>2.77</td>\n      <td>78.86</td>\n      <td>0.926</td>\n    </tr>\n    <tr>\n      <th>5</th>\n      <td>125185</td>\n      <td>2020-01-27</td>\n      <td>5.0</td>\n      <td>0.0</td>\n      <td>NaN</td>\n      <td>NaN</td>\n      <td>0.015</td>\n      <td>0.000</td>\n      <td>NaN</td>\n      <td>NaN</td>\n      <td>...</td>\n      <td>38.3</td>\n      <td>15.413</td>\n      <td>9.732</td>\n      <td>151.089</td>\n      <td>10.79</td>\n      <td>19.1</td>\n      <td>24.6</td>\n      <td>2.77</td>\n      <td>78.86</td>\n      <td>0.926</td>\n    </tr>\n    <tr>\n      <th>6</th>\n      <td>125186</td>\n      <td>2020-01-28</td>\n      <td>5.0</td>\n      <td>0.0</td>\n      <td>NaN</td>\n      <td>NaN</td>\n      <td>0.015</td>\n      <td>0.000</td>\n      <td>NaN</td>\n      <td>NaN</td>\n      <td>...</td>\n      <td>38.3</td>\n      <td>15.413</td>\n      <td>9.732</td>\n      <td>151.089</td>\n      <td>10.79</td>\n      <td>19.1</td>\n      <td>24.6</td>\n      <td>2.77</td>\n      <td>78.86</td>\n      <td>0.926</td>\n    </tr>\n    <tr>\n      <th>7</th>\n      <td>125187</td>\n      <td>2020-01-29</td>\n      <td>6.0</td>\n      <td>1.0</td>\n      <td>NaN</td>\n      <td>NaN</td>\n      <td>0.018</td>\n      <td>0.003</td>\n      <td>NaN</td>\n      <td>NaN</td>\n      <td>...</td>\n      <td>38.3</td>\n      <td>15.413</td>\n      <td>9.732</td>\n      <td>151.089</td>\n      <td>10.79</td>\n      <td>19.1</td>\n      <td>24.6</td>\n      <td>2.77</td>\n      <td>78.86</td>\n      <td>0.926</td>\n    </tr>\n    <tr>\n      <th>8</th>\n      <td>125188</td>\n      <td>2020-01-30</td>\n      <td>6.0</td>\n      <td>0.0</td>\n      <td>NaN</td>\n      <td>NaN</td>\n      <td>0.018</td>\n      <td>0.000</td>\n      <td>NaN</td>\n      <td>NaN</td>\n      <td>...</td>\n      <td>38.3</td>\n      <td>15.413</td>\n      <td>9.732</td>\n      <td>151.089</td>\n      <td>10.79</td>\n      <td>19.1</td>\n      <td>24.6</td>\n      <td>2.77</td>\n      <td>78.86</td>\n      <td>0.926</td>\n    </tr>\n    <tr>\n      <th>9</th>\n      <td>125189</td>\n      <td>2020-01-31</td>\n      <td>8.0</td>\n      <td>2.0</td>\n      <td>NaN</td>\n      <td>NaN</td>\n      <td>0.024</td>\n      <td>0.006</td>\n      <td>NaN</td>\n      <td>NaN</td>\n      <td>...</td>\n      <td>38.3</td>\n      <td>15.413</td>\n      <td>9.732</td>\n      <td>151.089</td>\n      <td>10.79</td>\n      <td>19.1</td>\n      <td>24.6</td>\n      <td>2.77</td>\n      <td>78.86</td>\n      <td>0.926</td>\n    </tr>\n    <tr>\n      <th>10</th>\n      <td>125190</td>\n      <td>2020-02-01</td>\n      <td>8.0</td>\n      <td>0.0</td>\n      <td>NaN</td>\n      <td>NaN</td>\n      <td>0.024</td>\n      <td>0.000</td>\n      <td>NaN</td>\n      <td>NaN</td>\n      <td>...</td>\n      <td>38.3</td>\n      <td>15.413</td>\n      <td>9.732</td>\n      <td>151.089</td>\n      <td>10.79</td>\n      <td>19.1</td>\n      <td>24.6</td>\n      <td>2.77</td>\n      <td>78.86</td>\n      <td>0.926</td>\n    </tr>\n    <tr>\n      <th>11</th>\n      <td>125191</td>\n      <td>2020-02-02</td>\n      <td>8.0</td>\n      <td>0.0</td>\n      <td>NaN</td>\n      <td>NaN</td>\n      <td>0.024</td>\n      <td>0.000</td>\n      <td>NaN</td>\n      <td>NaN</td>\n      <td>...</td>\n      <td>38.3</td>\n      <td>15.413</td>\n      <td>9.732</td>\n      <td>151.089</td>\n      <td>10.79</td>\n      <td>19.1</td>\n      <td>24.6</td>\n      <td>2.77</td>\n      <td>78.86</td>\n      <td>0.926</td>\n    </tr>\n    <tr>\n      <th>12</th>\n      <td>125192</td>\n      <td>2020-02-03</td>\n      <td>11.0</td>\n      <td>3.0</td>\n      <td>NaN</td>\n      <td>NaN</td>\n      <td>0.033</td>\n      <td>0.009</td>\n      <td>NaN</td>\n      <td>NaN</td>\n      <td>...</td>\n      <td>38.3</td>\n      <td>15.413</td>\n      <td>9.732</td>\n      <td>151.089</td>\n      <td>10.79</td>\n      <td>19.1</td>\n      <td>24.6</td>\n      <td>2.77</td>\n      <td>78.86</td>\n      <td>0.926</td>\n    </tr>\n    <tr>\n      <th>13</th>\n      <td>125193</td>\n      <td>2020-02-04</td>\n      <td>11.0</td>\n      <td>0.0</td>\n      <td>NaN</td>\n      <td>NaN</td>\n      <td>0.033</td>\n      <td>0.000</td>\n      <td>NaN</td>\n      <td>NaN</td>\n      <td>...</td>\n      <td>38.3</td>\n      <td>15.413</td>\n      <td>9.732</td>\n      <td>151.089</td>\n      <td>10.79</td>\n      <td>19.1</td>\n      <td>24.6</td>\n      <td>2.77</td>\n      <td>78.86</td>\n      <td>0.926</td>\n    </tr>\n    <tr>\n      <th>14</th>\n      <td>125194</td>\n      <td>2020-02-05</td>\n      <td>11.0</td>\n      <td>0.0</td>\n      <td>NaN</td>\n      <td>NaN</td>\n      <td>0.033</td>\n      <td>0.000</td>\n      <td>NaN</td>\n      <td>NaN</td>\n      <td>...</td>\n      <td>38.3</td>\n      <td>15.413</td>\n      <td>9.732</td>\n      <td>151.089</td>\n      <td>10.79</td>\n      <td>19.1</td>\n      <td>24.6</td>\n      <td>2.77</td>\n      <td>78.86</td>\n      <td>0.926</td>\n    </tr>\n    <tr>\n      <th>15</th>\n      <td>125195</td>\n      <td>2020-02-06</td>\n      <td>12.0</td>\n      <td>1.0</td>\n      <td>NaN</td>\n      <td>NaN</td>\n      <td>0.036</td>\n      <td>0.003</td>\n      <td>NaN</td>\n      <td>NaN</td>\n      <td>...</td>\n      <td>38.3</td>\n      <td>15.413</td>\n      <td>9.732</td>\n      <td>151.089</td>\n      <td>10.79</td>\n      <td>19.1</td>\n      <td>24.6</td>\n      <td>2.77</td>\n      <td>78.86</td>\n      <td>0.926</td>\n    </tr>\n    <tr>\n      <th>16</th>\n      <td>125196</td>\n      <td>2020-02-07</td>\n      <td>12.0</td>\n      <td>0.0</td>\n      <td>NaN</td>\n      <td>NaN</td>\n      <td>0.036</td>\n      <td>0.000</td>\n      <td>NaN</td>\n      <td>NaN</td>\n      <td>...</td>\n      <td>38.3</td>\n      <td>15.413</td>\n      <td>9.732</td>\n      <td>151.089</td>\n      <td>10.79</td>\n      <td>19.1</td>\n      <td>24.6</td>\n      <td>2.77</td>\n      <td>78.86</td>\n      <td>0.926</td>\n    </tr>\n    <tr>\n      <th>17</th>\n      <td>125197</td>\n      <td>2020-02-08</td>\n      <td>12.0</td>\n      <td>0.0</td>\n      <td>NaN</td>\n      <td>NaN</td>\n      <td>0.036</td>\n      <td>0.000</td>\n      <td>NaN</td>\n      <td>NaN</td>\n      <td>...</td>\n      <td>38.3</td>\n      <td>15.413</td>\n      <td>9.732</td>\n      <td>151.089</td>\n      <td>10.79</td>\n      <td>19.1</td>\n      <td>24.6</td>\n      <td>2.77</td>\n      <td>78.86</td>\n      <td>0.926</td>\n    </tr>\n    <tr>\n      <th>18</th>\n      <td>125198</td>\n      <td>2020-02-09</td>\n      <td>12.0</td>\n      <td>0.0</td>\n      <td>NaN</td>\n      <td>NaN</td>\n      <td>0.036</td>\n      <td>0.000</td>\n      <td>NaN</td>\n      <td>NaN</td>\n      <td>...</td>\n      <td>38.3</td>\n      <td>15.413</td>\n      <td>9.732</td>\n      <td>151.089</td>\n      <td>10.79</td>\n      <td>19.1</td>\n      <td>24.6</td>\n      <td>2.77</td>\n      <td>78.86</td>\n      <td>0.926</td>\n    </tr>\n    <tr>\n      <th>19</th>\n      <td>125199</td>\n      <td>2020-02-10</td>\n      <td>12.0</td>\n      <td>0.0</td>\n      <td>NaN</td>\n      <td>NaN</td>\n      <td>0.036</td>\n      <td>0.000</td>\n      <td>NaN</td>\n      <td>NaN</td>\n      <td>...</td>\n      <td>38.3</td>\n      <td>15.413</td>\n      <td>9.732</td>\n      <td>151.089</td>\n      <td>10.79</td>\n      <td>19.1</td>\n      <td>24.6</td>\n      <td>2.77</td>\n      <td>78.86</td>\n      <td>0.926</td>\n    </tr>\n    <tr>\n      <th>20</th>\n      <td>125200</td>\n      <td>2020-02-11</td>\n      <td>13.0</td>\n      <td>1.0</td>\n      <td>NaN</td>\n      <td>NaN</td>\n      <td>0.039</td>\n      <td>0.003</td>\n      <td>NaN</td>\n      <td>NaN</td>\n      <td>...</td>\n      <td>38.3</td>\n      <td>15.413</td>\n      <td>9.732</td>\n      <td>151.089</td>\n      <td>10.79</td>\n      <td>19.1</td>\n      <td>24.6</td>\n      <td>2.77</td>\n      <td>78.86</td>\n      <td>0.926</td>\n    </tr>\n    <tr>\n      <th>21</th>\n      <td>125201</td>\n      <td>2020-02-12</td>\n      <td>13.0</td>\n      <td>0.0</td>\n      <td>NaN</td>\n      <td>NaN</td>\n      <td>0.039</td>\n      <td>0.000</td>\n      <td>NaN</td>\n      <td>NaN</td>\n      <td>...</td>\n      <td>38.3</td>\n      <td>15.413</td>\n      <td>9.732</td>\n      <td>151.089</td>\n      <td>10.79</td>\n      <td>19.1</td>\n      <td>24.6</td>\n      <td>2.77</td>\n      <td>78.86</td>\n      <td>0.926</td>\n    </tr>\n    <tr>\n      <th>22</th>\n      <td>125202</td>\n      <td>2020-02-13</td>\n      <td>14.0</td>\n      <td>1.0</td>\n      <td>NaN</td>\n      <td>NaN</td>\n      <td>0.042</td>\n      <td>0.003</td>\n      <td>NaN</td>\n      <td>NaN</td>\n      <td>...</td>\n      <td>38.3</td>\n      <td>15.413</td>\n      <td>9.732</td>\n      <td>151.089</td>\n      <td>10.79</td>\n      <td>19.1</td>\n      <td>24.6</td>\n      <td>2.77</td>\n      <td>78.86</td>\n      <td>0.926</td>\n    </tr>\n    <tr>\n      <th>23</th>\n      <td>125203</td>\n      <td>2020-02-14</td>\n      <td>14.0</td>\n      <td>0.0</td>\n      <td>NaN</td>\n      <td>NaN</td>\n      <td>0.042</td>\n      <td>0.000</td>\n      <td>NaN</td>\n      <td>NaN</td>\n      <td>...</td>\n      <td>38.3</td>\n      <td>15.413</td>\n      <td>9.732</td>\n      <td>151.089</td>\n      <td>10.79</td>\n      <td>19.1</td>\n      <td>24.6</td>\n      <td>2.77</td>\n      <td>78.86</td>\n      <td>0.926</td>\n    </tr>\n    <tr>\n      <th>24</th>\n      <td>125204</td>\n      <td>2020-02-15</td>\n      <td>14.0</td>\n      <td>0.0</td>\n      <td>NaN</td>\n      <td>NaN</td>\n      <td>0.042</td>\n      <td>0.000</td>\n      <td>NaN</td>\n      <td>NaN</td>\n      <td>...</td>\n      <td>38.3</td>\n      <td>15.413</td>\n      <td>9.732</td>\n      <td>151.089</td>\n      <td>10.79</td>\n      <td>19.1</td>\n      <td>24.6</td>\n      <td>2.77</td>\n      <td>78.86</td>\n      <td>0.926</td>\n    </tr>\n    <tr>\n      <th>25</th>\n      <td>125205</td>\n      <td>2020-02-16</td>\n      <td>14.0</td>\n      <td>0.0</td>\n      <td>NaN</td>\n      <td>NaN</td>\n      <td>0.042</td>\n      <td>0.000</td>\n      <td>NaN</td>\n      <td>NaN</td>\n      <td>...</td>\n      <td>38.3</td>\n      <td>15.413</td>\n      <td>9.732</td>\n      <td>151.089</td>\n      <td>10.79</td>\n      <td>19.1</td>\n      <td>24.6</td>\n      <td>2.77</td>\n      <td>78.86</td>\n      <td>0.926</td>\n    </tr>\n    <tr>\n      <th>26</th>\n      <td>125206</td>\n      <td>2020-02-17</td>\n      <td>14.0</td>\n      <td>0.0</td>\n      <td>NaN</td>\n      <td>NaN</td>\n      <td>0.042</td>\n      <td>0.000</td>\n      <td>NaN</td>\n      <td>NaN</td>\n      <td>...</td>\n      <td>38.3</td>\n      <td>15.413</td>\n      <td>9.732</td>\n      <td>151.089</td>\n      <td>10.79</td>\n      <td>19.1</td>\n      <td>24.6</td>\n      <td>2.77</td>\n      <td>78.86</td>\n      <td>0.926</td>\n    </tr>\n    <tr>\n      <th>27</th>\n      <td>125207</td>\n      <td>2020-02-18</td>\n      <td>14.0</td>\n      <td>0.0</td>\n      <td>NaN</td>\n      <td>NaN</td>\n      <td>0.042</td>\n      <td>0.000</td>\n      <td>NaN</td>\n      <td>NaN</td>\n      <td>...</td>\n      <td>38.3</td>\n      <td>15.413</td>\n      <td>9.732</td>\n      <td>151.089</td>\n      <td>10.79</td>\n      <td>19.1</td>\n      <td>24.6</td>\n      <td>2.77</td>\n      <td>78.86</td>\n      <td>0.926</td>\n    </tr>\n    <tr>\n      <th>28</th>\n      <td>125208</td>\n      <td>2020-02-19</td>\n      <td>14.0</td>\n      <td>0.0</td>\n      <td>NaN</td>\n      <td>NaN</td>\n      <td>0.042</td>\n      <td>0.000</td>\n      <td>NaN</td>\n      <td>NaN</td>\n      <td>...</td>\n      <td>38.3</td>\n      <td>15.413</td>\n      <td>9.732</td>\n      <td>151.089</td>\n      <td>10.79</td>\n      <td>19.1</td>\n      <td>24.6</td>\n      <td>2.77</td>\n      <td>78.86</td>\n      <td>0.926</td>\n    </tr>\n    <tr>\n      <th>29</th>\n      <td>125209</td>\n      <td>2020-02-20</td>\n      <td>14.0</td>\n      <td>0.0</td>\n      <td>NaN</td>\n      <td>NaN</td>\n      <td>0.042</td>\n      <td>0.000</td>\n      <td>NaN</td>\n      <td>NaN</td>\n      <td>...</td>\n      <td>38.3</td>\n      <td>15.413</td>\n      <td>9.732</td>\n      <td>151.089</td>\n      <td>10.79</td>\n      <td>19.1</td>\n      <td>24.6</td>\n      <td>2.77</td>\n      <td>78.86</td>\n      <td>0.926</td>\n    </tr>\n    <tr>\n      <th>30</th>\n      <td>125210</td>\n      <td>2020-02-21</td>\n      <td>16.0</td>\n      <td>2.0</td>\n      <td>NaN</td>\n      <td>NaN</td>\n      <td>0.048</td>\n      <td>0.006</td>\n      <td>NaN</td>\n      <td>NaN</td>\n      <td>...</td>\n      <td>38.3</td>\n      <td>15.413</td>\n      <td>9.732</td>\n      <td>151.089</td>\n      <td>10.79</td>\n      <td>19.1</td>\n      <td>24.6</td>\n      <td>2.77</td>\n      <td>78.86</td>\n      <td>0.926</td>\n    </tr>\n    <tr>\n      <th>31</th>\n      <td>125211</td>\n      <td>2020-02-22</td>\n      <td>16.0</td>\n      <td>0.0</td>\n      <td>NaN</td>\n      <td>NaN</td>\n      <td>0.048</td>\n      <td>0.000</td>\n      <td>NaN</td>\n      <td>NaN</td>\n      <td>...</td>\n      <td>38.3</td>\n      <td>15.413</td>\n      <td>9.732</td>\n      <td>151.089</td>\n      <td>10.79</td>\n      <td>19.1</td>\n      <td>24.6</td>\n      <td>2.77</td>\n      <td>78.86</td>\n      <td>0.926</td>\n    </tr>\n    <tr>\n      <th>32</th>\n      <td>125212</td>\n      <td>2020-02-23</td>\n      <td>16.0</td>\n      <td>0.0</td>\n      <td>NaN</td>\n      <td>NaN</td>\n      <td>0.048</td>\n      <td>0.000</td>\n      <td>NaN</td>\n      <td>NaN</td>\n      <td>...</td>\n      <td>38.3</td>\n      <td>15.413</td>\n      <td>9.732</td>\n      <td>151.089</td>\n      <td>10.79</td>\n      <td>19.1</td>\n      <td>24.6</td>\n      <td>2.77</td>\n      <td>78.86</td>\n      <td>0.926</td>\n    </tr>\n    <tr>\n      <th>33</th>\n      <td>125213</td>\n      <td>2020-02-24</td>\n      <td>16.0</td>\n      <td>0.0</td>\n      <td>NaN</td>\n      <td>NaN</td>\n      <td>0.048</td>\n      <td>0.000</td>\n      <td>NaN</td>\n      <td>NaN</td>\n      <td>...</td>\n      <td>38.3</td>\n      <td>15.413</td>\n      <td>9.732</td>\n      <td>151.089</td>\n      <td>10.79</td>\n      <td>19.1</td>\n      <td>24.6</td>\n      <td>2.77</td>\n      <td>78.86</td>\n      <td>0.926</td>\n    </tr>\n    <tr>\n      <th>34</th>\n      <td>125214</td>\n      <td>2020-02-25</td>\n      <td>16.0</td>\n      <td>0.0</td>\n      <td>NaN</td>\n      <td>NaN</td>\n      <td>0.048</td>\n      <td>0.000</td>\n      <td>NaN</td>\n      <td>NaN</td>\n      <td>...</td>\n      <td>38.3</td>\n      <td>15.413</td>\n      <td>9.732</td>\n      <td>151.089</td>\n      <td>10.79</td>\n      <td>19.1</td>\n      <td>24.6</td>\n      <td>2.77</td>\n      <td>78.86</td>\n      <td>0.926</td>\n    </tr>\n    <tr>\n      <th>35</th>\n      <td>125215</td>\n      <td>2020-02-26</td>\n      <td>16.0</td>\n      <td>0.0</td>\n      <td>NaN</td>\n      <td>NaN</td>\n      <td>0.048</td>\n      <td>0.000</td>\n      <td>NaN</td>\n      <td>NaN</td>\n      <td>...</td>\n      <td>38.3</td>\n      <td>15.413</td>\n      <td>9.732</td>\n      <td>151.089</td>\n      <td>10.79</td>\n      <td>19.1</td>\n      <td>24.6</td>\n      <td>2.77</td>\n      <td>78.86</td>\n      <td>0.926</td>\n    </tr>\n    <tr>\n      <th>36</th>\n      <td>125216</td>\n      <td>2020-02-27</td>\n      <td>17.0</td>\n      <td>1.0</td>\n      <td>NaN</td>\n      <td>NaN</td>\n      <td>0.051</td>\n      <td>0.003</td>\n      <td>NaN</td>\n      <td>NaN</td>\n      <td>...</td>\n      <td>38.3</td>\n      <td>15.413</td>\n      <td>9.732</td>\n      <td>151.089</td>\n      <td>10.79</td>\n      <td>19.1</td>\n      <td>24.6</td>\n      <td>2.77</td>\n      <td>78.86</td>\n      <td>0.926</td>\n    </tr>\n    <tr>\n      <th>37</th>\n      <td>125217</td>\n      <td>2020-02-28</td>\n      <td>17.0</td>\n      <td>0.0</td>\n      <td>NaN</td>\n      <td>NaN</td>\n      <td>0.051</td>\n      <td>0.000</td>\n      <td>NaN</td>\n      <td>NaN</td>\n      <td>...</td>\n      <td>38.3</td>\n      <td>15.413</td>\n      <td>9.732</td>\n      <td>151.089</td>\n      <td>10.79</td>\n      <td>19.1</td>\n      <td>24.6</td>\n      <td>2.77</td>\n      <td>78.86</td>\n      <td>0.926</td>\n    </tr>\n    <tr>\n      <th>38</th>\n      <td>125218</td>\n      <td>2020-02-29</td>\n      <td>25.0</td>\n      <td>8.0</td>\n      <td>1.0</td>\n      <td>1.0</td>\n      <td>0.075</td>\n      <td>0.024</td>\n      <td>0.003</td>\n      <td>0.003</td>\n      <td>...</td>\n      <td>38.3</td>\n      <td>15.413</td>\n      <td>9.732</td>\n      <td>151.089</td>\n      <td>10.79</td>\n      <td>19.1</td>\n      <td>24.6</td>\n      <td>2.77</td>\n      <td>78.86</td>\n      <td>0.926</td>\n    </tr>\n    <tr>\n      <th>39</th>\n      <td>125219</td>\n      <td>2020-03-01</td>\n      <td>32.0</td>\n      <td>7.0</td>\n      <td>1.0</td>\n      <td>0.0</td>\n      <td>0.096</td>\n      <td>0.021</td>\n      <td>0.003</td>\n      <td>0.000</td>\n      <td>...</td>\n      <td>38.3</td>\n      <td>15.413</td>\n      <td>9.732</td>\n      <td>151.089</td>\n      <td>10.79</td>\n      <td>19.1</td>\n      <td>24.6</td>\n      <td>2.77</td>\n      <td>78.86</td>\n      <td>0.926</td>\n    </tr>\n    <tr>\n      <th>40</th>\n      <td>125220</td>\n      <td>2020-03-02</td>\n      <td>55.0</td>\n      <td>23.0</td>\n      <td>6.0</td>\n      <td>5.0</td>\n      <td>0.165</td>\n      <td>0.069</td>\n      <td>0.018</td>\n      <td>0.015</td>\n      <td>...</td>\n      <td>38.3</td>\n      <td>15.413</td>\n      <td>9.732</td>\n      <td>151.089</td>\n      <td>10.79</td>\n      <td>19.1</td>\n      <td>24.6</td>\n      <td>2.77</td>\n      <td>78.86</td>\n      <td>0.926</td>\n    </tr>\n    <tr>\n      <th>41</th>\n      <td>125221</td>\n      <td>2020-03-03</td>\n      <td>74.0</td>\n      <td>19.0</td>\n      <td>7.0</td>\n      <td>1.0</td>\n      <td>0.222</td>\n      <td>0.057</td>\n      <td>0.021</td>\n      <td>0.003</td>\n      <td>...</td>\n      <td>38.3</td>\n      <td>15.413</td>\n      <td>9.732</td>\n      <td>151.089</td>\n      <td>10.79</td>\n      <td>19.1</td>\n      <td>24.6</td>\n      <td>2.77</td>\n      <td>78.86</td>\n      <td>0.926</td>\n    </tr>\n    <tr>\n      <th>42</th>\n      <td>125222</td>\n      <td>2020-03-04</td>\n      <td>107.0</td>\n      <td>33.0</td>\n      <td>11.0</td>\n      <td>4.0</td>\n      <td>0.321</td>\n      <td>0.099</td>\n      <td>0.033</td>\n      <td>0.012</td>\n      <td>...</td>\n      <td>38.3</td>\n      <td>15.413</td>\n      <td>9.732</td>\n      <td>151.089</td>\n      <td>10.79</td>\n      <td>19.1</td>\n      <td>24.6</td>\n      <td>2.77</td>\n      <td>78.86</td>\n      <td>0.926</td>\n    </tr>\n    <tr>\n      <th>659</th>\n      <td>125839</td>\n      <td>2021-11-11</td>\n      <td>46851529.0</td>\n      <td>58626.0</td>\n      <td>760037.0</td>\n      <td>760.0</td>\n      <td>140731.173</td>\n      <td>176.099</td>\n      <td>2282.976</td>\n      <td>2.283</td>\n      <td>...</td>\n      <td>38.3</td>\n      <td>15.413</td>\n      <td>9.732</td>\n      <td>151.089</td>\n      <td>10.79</td>\n      <td>19.1</td>\n      <td>24.6</td>\n      <td>2.77</td>\n      <td>78.86</td>\n      <td>0.926</td>\n    </tr>\n  </tbody>\n</table>\n<p>44 rows × 48 columns</p>\n</div>"
     },
     "metadata": {},
     "execution_count": 17
    }
   ],
   "source": [
    "us_data[pd.isna(us_data['reproduction_rate'])]"
   ]
  },
  {
   "source": [
    "We can replace most of the null values with 0s with the exception of the reproduction_rate column. For the rest of the columns, the nulls appear in locations where no data was available for that particular metric, which in this case implies a zero. However, for the reproduction_rate, it is more complicated and indicates that we did not have enough data to calculate the correct rate. We will leave these nulls in our data."
   ],
   "cell_type": "markdown",
   "metadata": {}
  },
  {
   "cell_type": "code",
   "execution_count": 18,
   "metadata": {},
   "outputs": [
    {
     "output_type": "execute_result",
     "data": {
      "text/plain": [
       "index                                   0\n",
       "date                                    0\n",
       "total_cases                             0\n",
       "new_cases                               0\n",
       "total_deaths                            0\n",
       "new_deaths                              0\n",
       "total_cases_per_million                 0\n",
       "new_cases_per_million                   0\n",
       "total_deaths_per_million                0\n",
       "new_deaths_per_million                  0\n",
       "reproduction_rate                      44\n",
       "icu_patients                            0\n",
       "icu_patients_per_million                0\n",
       "hosp_patients                           0\n",
       "hosp_patients_per_million               0\n",
       "weekly_icu_admissions                   0\n",
       "weekly_icu_admissions_per_million       0\n",
       "weekly_hosp_admissions                  0\n",
       "weekly_hosp_admissions_per_million      0\n",
       "new_tests                               0\n",
       "total_tests                             0\n",
       "total_tests_per_thousand                0\n",
       "new_tests_per_thousand                  0\n",
       "positive_rate                           0\n",
       "tests_per_case                          0\n",
       "tests_units                             0\n",
       "total_vaccinations                      0\n",
       "people_vaccinated                       0\n",
       "people_fully_vaccinated                 0\n",
       "total_boosters                          0\n",
       "new_vaccinations                        0\n",
       "total_vaccinations_per_hundred          0\n",
       "people_vaccinated_per_hundred           0\n",
       "people_fully_vaccinated_per_hundred     0\n",
       "total_boosters_per_hundred              0\n",
       "stringency_index                        0\n",
       "population                              0\n",
       "population_density                      0\n",
       "median_age                              0\n",
       "aged_65_older                           0\n",
       "aged_70_older                           0\n",
       "cardiovasc_death_rate                   0\n",
       "diabetes_prevalence                     0\n",
       "female_smokers                          0\n",
       "male_smokers                            0\n",
       "hospital_beds_per_thousand              0\n",
       "life_expectancy                         0\n",
       "human_development_index                 0\n",
       "dtype: int64"
      ]
     },
     "metadata": {},
     "execution_count": 18
    }
   ],
   "source": [
    "cols = list(us_data.columns)\n",
    "cols.remove('reproduction_rate')\n",
    "us_data[cols] = us_data[cols].fillna(0)\n",
    "us_data.isna().sum()"
   ]
  },
  {
   "source": [
    "reproduction_rate is now the only column with nulls contained."
   ],
   "cell_type": "markdown",
   "metadata": {}
  },
  {
   "source": [
    "## Feature Engineering"
   ],
   "cell_type": "markdown",
   "metadata": {}
  },
  {
   "source": [
    "Since we are interested in looking at the changes in trends given the implementation of various intervention measures, we will add indicator columns to understand which measures were in place for each observation. Specifically, we will look at when social distancing measures were implemented, stay at home orders were issued, mask mandates were announced, and vaccinations became available.\n",
    "\n",
    "- According to the [Kaiser Family Foundation](https://www.kff.org/policy-watch/stay-at-home-orders-to-fight-covid19/), the first stay at home order was announced in  King County in Washington state on March 4, 2020\n",
    "- According to [NPR](https://www.npr.org/2020/03/16/816658125/white-house-announces-new-social-distancing-guidelines-around-coronavirus), the White House announced social distancing guidelines on March 16, 2020.\n",
    "- According to [Wikipedia](https://en.wikipedia.org/wiki/Face_masks_during_the_COVID-19_pandemic_in_the_United_States#Timeline), the CDC issued the first federal guidance recommending non-medical face coverings to be worn on April 3, 2020.\n",
    "- According to the [FDA](<https://www.fda.gov/emergency-preparedness-and-response/coronavirus-disease-2019-covid-19/covid-19-frequently-asked-questions#:~:text=On%20December%2011%2C%202020,)%20of%20a%20vaccine.>), the first Emergency Use Authorization for a COVID vaccine was granted on December 11, 2020 for the Pfizer-BioNTech Vaccine."
   ],
   "cell_type": "markdown",
   "metadata": {}
  },
  {
   "cell_type": "code",
   "execution_count": 19,
   "metadata": {},
   "outputs": [],
   "source": [
    "us_data['stay_at_home'] = us_data['date'] > '2020-03-04'\n",
    "us_data['social_distancing'] = us_data['date'] > '2020-03-16'\n",
    "us_data['face_covering'] = us_data['date'] > '2020-04-04'\n",
    "us_data['vaccines'] = us_data['date'] > '2020-12-11'"
   ]
  },
  {
   "cell_type": "code",
   "execution_count": 20,
   "metadata": {},
   "outputs": [
    {
     "output_type": "execute_result",
     "data": {
      "text/plain": [
       "      index       date  total_cases  new_cases  total_deaths  new_deaths  \\\n",
       "439  125619 2021-04-05   30853266.0    74686.0      555011.0       471.0   \n",
       "446  125626 2021-04-12   31336673.0    68299.0      561883.0       452.0   \n",
       "45   125225 2020-03-07        403.0      166.0          17.0         3.0   \n",
       "602  125782 2021-09-15   41660101.0   171309.0      667497.0      2765.0   \n",
       "40   125220 2020-03-02         55.0       23.0           6.0         5.0   \n",
       "\n",
       "     total_cases_per_million  new_cases_per_million  total_deaths_per_million  \\\n",
       "439                92676.086                224.339                  1667.125   \n",
       "446                94128.129                205.154                  1687.767   \n",
       "45                     1.211                  0.499                     0.051   \n",
       "602               125137.323                514.573                  2005.007   \n",
       "40                     0.165                  0.069                     0.018   \n",
       "\n",
       "     new_deaths_per_million  ...  diabetes_prevalence  female_smokers  \\\n",
       "439                   1.415  ...                10.79            19.1   \n",
       "446                   1.358  ...                10.79            19.1   \n",
       "45                    0.009  ...                10.79            19.1   \n",
       "602                   8.305  ...                10.79            19.1   \n",
       "40                    0.015  ...                10.79            19.1   \n",
       "\n",
       "     male_smokers  hospital_beds_per_thousand  life_expectancy  \\\n",
       "439          24.6                        2.77            78.86   \n",
       "446          24.6                        2.77            78.86   \n",
       "45           24.6                        2.77            78.86   \n",
       "602          24.6                        2.77            78.86   \n",
       "40           24.6                        2.77            78.86   \n",
       "\n",
       "     human_development_index  stay_at_home  social_distancing  face_covering  \\\n",
       "439                    0.926          True               True           True   \n",
       "446                    0.926          True               True           True   \n",
       "45                     0.926          True              False          False   \n",
       "602                    0.926          True               True           True   \n",
       "40                     0.926         False              False          False   \n",
       "\n",
       "     vaccines  \n",
       "439      True  \n",
       "446      True  \n",
       "45      False  \n",
       "602      True  \n",
       "40      False  \n",
       "\n",
       "[5 rows x 52 columns]"
      ],
      "text/html": "<div>\n<style scoped>\n    .dataframe tbody tr th:only-of-type {\n        vertical-align: middle;\n    }\n\n    .dataframe tbody tr th {\n        vertical-align: top;\n    }\n\n    .dataframe thead th {\n        text-align: right;\n    }\n</style>\n<table border=\"1\" class=\"dataframe\">\n  <thead>\n    <tr style=\"text-align: right;\">\n      <th></th>\n      <th>index</th>\n      <th>date</th>\n      <th>total_cases</th>\n      <th>new_cases</th>\n      <th>total_deaths</th>\n      <th>new_deaths</th>\n      <th>total_cases_per_million</th>\n      <th>new_cases_per_million</th>\n      <th>total_deaths_per_million</th>\n      <th>new_deaths_per_million</th>\n      <th>...</th>\n      <th>diabetes_prevalence</th>\n      <th>female_smokers</th>\n      <th>male_smokers</th>\n      <th>hospital_beds_per_thousand</th>\n      <th>life_expectancy</th>\n      <th>human_development_index</th>\n      <th>stay_at_home</th>\n      <th>social_distancing</th>\n      <th>face_covering</th>\n      <th>vaccines</th>\n    </tr>\n  </thead>\n  <tbody>\n    <tr>\n      <th>439</th>\n      <td>125619</td>\n      <td>2021-04-05</td>\n      <td>30853266.0</td>\n      <td>74686.0</td>\n      <td>555011.0</td>\n      <td>471.0</td>\n      <td>92676.086</td>\n      <td>224.339</td>\n      <td>1667.125</td>\n      <td>1.415</td>\n      <td>...</td>\n      <td>10.79</td>\n      <td>19.1</td>\n      <td>24.6</td>\n      <td>2.77</td>\n      <td>78.86</td>\n      <td>0.926</td>\n      <td>True</td>\n      <td>True</td>\n      <td>True</td>\n      <td>True</td>\n    </tr>\n    <tr>\n      <th>446</th>\n      <td>125626</td>\n      <td>2021-04-12</td>\n      <td>31336673.0</td>\n      <td>68299.0</td>\n      <td>561883.0</td>\n      <td>452.0</td>\n      <td>94128.129</td>\n      <td>205.154</td>\n      <td>1687.767</td>\n      <td>1.358</td>\n      <td>...</td>\n      <td>10.79</td>\n      <td>19.1</td>\n      <td>24.6</td>\n      <td>2.77</td>\n      <td>78.86</td>\n      <td>0.926</td>\n      <td>True</td>\n      <td>True</td>\n      <td>True</td>\n      <td>True</td>\n    </tr>\n    <tr>\n      <th>45</th>\n      <td>125225</td>\n      <td>2020-03-07</td>\n      <td>403.0</td>\n      <td>166.0</td>\n      <td>17.0</td>\n      <td>3.0</td>\n      <td>1.211</td>\n      <td>0.499</td>\n      <td>0.051</td>\n      <td>0.009</td>\n      <td>...</td>\n      <td>10.79</td>\n      <td>19.1</td>\n      <td>24.6</td>\n      <td>2.77</td>\n      <td>78.86</td>\n      <td>0.926</td>\n      <td>True</td>\n      <td>False</td>\n      <td>False</td>\n      <td>False</td>\n    </tr>\n    <tr>\n      <th>602</th>\n      <td>125782</td>\n      <td>2021-09-15</td>\n      <td>41660101.0</td>\n      <td>171309.0</td>\n      <td>667497.0</td>\n      <td>2765.0</td>\n      <td>125137.323</td>\n      <td>514.573</td>\n      <td>2005.007</td>\n      <td>8.305</td>\n      <td>...</td>\n      <td>10.79</td>\n      <td>19.1</td>\n      <td>24.6</td>\n      <td>2.77</td>\n      <td>78.86</td>\n      <td>0.926</td>\n      <td>True</td>\n      <td>True</td>\n      <td>True</td>\n      <td>True</td>\n    </tr>\n    <tr>\n      <th>40</th>\n      <td>125220</td>\n      <td>2020-03-02</td>\n      <td>55.0</td>\n      <td>23.0</td>\n      <td>6.0</td>\n      <td>5.0</td>\n      <td>0.165</td>\n      <td>0.069</td>\n      <td>0.018</td>\n      <td>0.015</td>\n      <td>...</td>\n      <td>10.79</td>\n      <td>19.1</td>\n      <td>24.6</td>\n      <td>2.77</td>\n      <td>78.86</td>\n      <td>0.926</td>\n      <td>False</td>\n      <td>False</td>\n      <td>False</td>\n      <td>False</td>\n    </tr>\n  </tbody>\n</table>\n<p>5 rows × 52 columns</p>\n</div>"
     },
     "metadata": {},
     "execution_count": 20
    }
   ],
   "source": [
    "us_data.sample(5)"
   ]
  },
  {
   "cell_type": "code",
   "execution_count": 21,
   "metadata": {},
   "outputs": [],
   "source": [
    "def determine_measures(row):\n",
    "    measures = ''\n",
    "    for col in ['stay_at_home', 'social_distancing', 'face_covering', 'vaccines']:\n",
    "        if row[col]:\n",
    "            measures = measures + col + \" | \"\n",
    "\n",
    "    return measures[:-3]"
   ]
  },
  {
   "cell_type": "code",
   "execution_count": 22,
   "metadata": {
    "tags": []
   },
   "outputs": [],
   "source": [
    "us_data['prevention_measures'] = us_data.apply(determine_measures, axis=1)"
   ]
  },
  {
   "cell_type": "code",
   "execution_count": 23,
   "metadata": {},
   "outputs": [
    {
     "output_type": "execute_result",
     "data": {
      "text/plain": [
       "     stay_at_home  social_distancing  face_covering  vaccines  \\\n",
       "378          True               True           True      True   \n",
       "241          True               True           True     False   \n",
       "212          True               True           True     False   \n",
       "293          True               True           True     False   \n",
       "352          True               True           True      True   \n",
       "358          True               True           True      True   \n",
       "577          True               True           True      True   \n",
       "136          True               True           True     False   \n",
       "530          True               True           True      True   \n",
       "637          True               True           True      True   \n",
       "\n",
       "                                   prevention_measures  \n",
       "378  stay_at_home | social_distancing | face_coveri...  \n",
       "241   stay_at_home | social_distancing | face_covering  \n",
       "212   stay_at_home | social_distancing | face_covering  \n",
       "293   stay_at_home | social_distancing | face_covering  \n",
       "352  stay_at_home | social_distancing | face_coveri...  \n",
       "358  stay_at_home | social_distancing | face_coveri...  \n",
       "577  stay_at_home | social_distancing | face_coveri...  \n",
       "136   stay_at_home | social_distancing | face_covering  \n",
       "530  stay_at_home | social_distancing | face_coveri...  \n",
       "637  stay_at_home | social_distancing | face_coveri...  "
      ],
      "text/html": "<div>\n<style scoped>\n    .dataframe tbody tr th:only-of-type {\n        vertical-align: middle;\n    }\n\n    .dataframe tbody tr th {\n        vertical-align: top;\n    }\n\n    .dataframe thead th {\n        text-align: right;\n    }\n</style>\n<table border=\"1\" class=\"dataframe\">\n  <thead>\n    <tr style=\"text-align: right;\">\n      <th></th>\n      <th>stay_at_home</th>\n      <th>social_distancing</th>\n      <th>face_covering</th>\n      <th>vaccines</th>\n      <th>prevention_measures</th>\n    </tr>\n  </thead>\n  <tbody>\n    <tr>\n      <th>378</th>\n      <td>True</td>\n      <td>True</td>\n      <td>True</td>\n      <td>True</td>\n      <td>stay_at_home | social_distancing | face_coveri...</td>\n    </tr>\n    <tr>\n      <th>241</th>\n      <td>True</td>\n      <td>True</td>\n      <td>True</td>\n      <td>False</td>\n      <td>stay_at_home | social_distancing | face_covering</td>\n    </tr>\n    <tr>\n      <th>212</th>\n      <td>True</td>\n      <td>True</td>\n      <td>True</td>\n      <td>False</td>\n      <td>stay_at_home | social_distancing | face_covering</td>\n    </tr>\n    <tr>\n      <th>293</th>\n      <td>True</td>\n      <td>True</td>\n      <td>True</td>\n      <td>False</td>\n      <td>stay_at_home | social_distancing | face_covering</td>\n    </tr>\n    <tr>\n      <th>352</th>\n      <td>True</td>\n      <td>True</td>\n      <td>True</td>\n      <td>True</td>\n      <td>stay_at_home | social_distancing | face_coveri...</td>\n    </tr>\n    <tr>\n      <th>358</th>\n      <td>True</td>\n      <td>True</td>\n      <td>True</td>\n      <td>True</td>\n      <td>stay_at_home | social_distancing | face_coveri...</td>\n    </tr>\n    <tr>\n      <th>577</th>\n      <td>True</td>\n      <td>True</td>\n      <td>True</td>\n      <td>True</td>\n      <td>stay_at_home | social_distancing | face_coveri...</td>\n    </tr>\n    <tr>\n      <th>136</th>\n      <td>True</td>\n      <td>True</td>\n      <td>True</td>\n      <td>False</td>\n      <td>stay_at_home | social_distancing | face_covering</td>\n    </tr>\n    <tr>\n      <th>530</th>\n      <td>True</td>\n      <td>True</td>\n      <td>True</td>\n      <td>True</td>\n      <td>stay_at_home | social_distancing | face_coveri...</td>\n    </tr>\n    <tr>\n      <th>637</th>\n      <td>True</td>\n      <td>True</td>\n      <td>True</td>\n      <td>True</td>\n      <td>stay_at_home | social_distancing | face_coveri...</td>\n    </tr>\n  </tbody>\n</table>\n</div>"
     },
     "metadata": {},
     "execution_count": 23
    }
   ],
   "source": [
    "us_data[['stay_at_home', 'social_distancing', 'face_covering', 'vaccines', 'prevention_measures']].sample(10)"
   ]
  },
  {
   "source": [
    "# Visualization"
   ],
   "cell_type": "markdown",
   "metadata": {}
  },
  {
   "cell_type": "code",
   "execution_count": null,
   "metadata": {},
   "outputs": [],
   "source": []
  },
  {
   "cell_type": "code",
   "execution_count": null,
   "metadata": {},
   "outputs": [],
   "source": []
  },
  {
   "cell_type": "code",
   "execution_count": null,
   "metadata": {},
   "outputs": [],
   "source": []
  },
  {
   "cell_type": "code",
   "execution_count": null,
   "metadata": {},
   "outputs": [],
   "source": []
  }
 ]
}